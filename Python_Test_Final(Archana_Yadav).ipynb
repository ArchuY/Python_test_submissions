{
  "nbformat": 4,
  "nbformat_minor": 0,
  "metadata": {
    "colab": {
      "provenance": []
    },
    "kernelspec": {
      "name": "python3",
      "display_name": "Python 3",
      "language": "python"
    },
    "language_info": {
      "name": "python",
      "version": "3.7.10-final"
    }
  },
  "cells": [
    {
      "cell_type": "markdown",
      "source": [
        "## Python Test\n",
        "\n",
        "### Instructions:\n",
        "\n",
        "You are given with Python coding problems. These problems will give you the chance to test your implementations of the questions. Each code runs your implementations for a number of testcases. You use the test codes to make sure that:\n",
        "\n",
        "    • Your function does not crash, that is, there is no Python errors when trying to run the\n",
        "    function.\n",
        "\n",
        "    • Compare the results of the testcases to your results. Expected results are given at the\n",
        "    end of each code.\n",
        "\n",
        "\n",
        "In each problem, replace pass command with your implementation of each required function."
      ],
      "metadata": {
        "id": "AoBhB2LUBoyf"
      }
    },
    {
      "cell_type": "markdown",
      "source": [
        "### Question 1 - Arithmetic\n",
        "\n",
        "In this question, your task is to implement a function `do_arithmetic(x,y,op)` which takes three input arguments: a number x,\n",
        "a number y, and a string op representing an operation. The function has to perform the\n",
        "operation on the two numbers and return the result.\n",
        "\n",
        "- Example 1: if you call the function with the parameter `do_arithmetic(10,4,’add’)` the function should return the value 14.0.\n",
        "\n",
        "- Example 2: `do_arithmetic(2,3,’*’)` should return 6.0.\n",
        "\n",
        "**Detailed instructions:**\n",
        "-  You can assume that x and y are always provided and always valid numbers (e.g. integers or floats).\n",
        "\n",
        "- `op` is a string representing the operation to perform. You have to implement four operations with ’add’, ’+’, ’subtract’, ’-’, ’multiply’, ’*’, and ’divide’, ’/’.\n",
        "\n",
        "- If `op` is not specified by the user it should default to ’add’.\n",
        "\n",
        "- If `op` is specified by the user but it is not one of the four operations (with eight keywords), print ’Unknown operation’ and return None.\n",
        "\n",
        "- Division by zero should be avoided. To this end, return None whenever division by zero would occur, and print ’Division by 0!’\n",
        "\n",
        "- The returned result should always be of type float.\n",
        "\n",
        "Test code: The following test cases will be tested:\n",
        "\n",
        "`do_arithmetic(24, -7, 'add')`\n",
        "- Expected result:- 17.0\n",
        "\n",
        "`do_arithmetic(6, 6, 'multiply')`\n",
        "- Expected result:- 36.0\n",
        "\n",
        "`do_arithmetic(4, 0, '/')`\n",
        "- Expected result: \"Division by Zero!\"\n",
        "\n",
        "`do_arithmetic(3, 9, '-')`\n",
        "- Expected result: -6.0\n",
        "\n",
        "`do_arithmetic(10, -43, 'subtract')`\n",
        "- Expected result: 53.0\n",
        "\n",
        "`do_arithmetic(3, 9)`\n",
        "- Expected result: 12.0"
      ],
      "metadata": {
        "id": "a9aj25yKCjXR"
      }
    },
    {
      "cell_type": "code",
      "source": [],
      "metadata": {
        "id": "NkrBKC9zRmBR"
      },
      "execution_count": null,
      "outputs": []
    },
    {
      "cell_type": "code",
      "source": [
        "def do_arithmetic(x,y,op='add'):\n",
        "  ''' This function perform arithmatic operation by taking 2 numbers and 1 operator in string format as a parameter'''\n",
        "  if op == 'add':\n",
        "    return float((x)+(y))\n",
        "  elif op == '+':\n",
        "    return float((x)+(y))\n",
        "  elif op == 'subtract':\n",
        "    return float((x)-(y))\n",
        "  elif op == '-':\n",
        "    return float((x)-(y))\n",
        "  elif op == 'multiply':\n",
        "    return float((x)*(y))\n",
        "  elif op == '*':\n",
        "    return float((x)*(y))\n",
        "  elif op == 'divide':\n",
        "    try:\n",
        "      return float((x)/(y))\n",
        "    except ZeroDivisionError:\n",
        "      print('Divide by Zero!')\n",
        "  elif op == '/':\n",
        "    try:\n",
        "      return float((x)/(y))\n",
        "    except ZeroDivisionError:\n",
        "      print('Divide by Zero!')\n",
        "  else:\n",
        "    print('Unknown operation')\n",
        "\n",
        "\n",
        "do_arithmetic(24, -7, 'add')"
      ],
      "metadata": {
        "id": "6qw-Ev62CZ55",
        "colab": {
          "base_uri": "https://localhost:8080/"
        },
        "outputId": "cc6f61bd-a75b-4e06-f97f-e9ebccd50d9b"
      },
      "execution_count": 14,
      "outputs": [
        {
          "output_type": "execute_result",
          "data": {
            "text/plain": [
              "17.0"
            ]
          },
          "metadata": {},
          "execution_count": 14
        }
      ]
    },
    {
      "cell_type": "code",
      "source": [
        "do_arithmetic(6, 6,'*')"
      ],
      "metadata": {
        "colab": {
          "base_uri": "https://localhost:8080/"
        },
        "id": "RPp69gH0OF3v",
        "outputId": "25e5bd1e-98b0-426a-ba0d-f792d4902c46"
      },
      "execution_count": 15,
      "outputs": [
        {
          "output_type": "execute_result",
          "data": {
            "text/plain": [
              "36.0"
            ]
          },
          "metadata": {},
          "execution_count": 15
        }
      ]
    },
    {
      "cell_type": "code",
      "source": [
        "do_arithmetic(4, 0, '/')"
      ],
      "metadata": {
        "colab": {
          "base_uri": "https://localhost:8080/"
        },
        "id": "qMd2knkZOF0Q",
        "outputId": "7970ab9e-ebdf-4396-a6b3-5db3a59ef9ad"
      },
      "execution_count": 16,
      "outputs": [
        {
          "output_type": "stream",
          "name": "stdout",
          "text": [
            "Divide by Zero!\n"
          ]
        }
      ]
    },
    {
      "cell_type": "code",
      "source": [
        "do_arithmetic(3, 9, '-')"
      ],
      "metadata": {
        "colab": {
          "base_uri": "https://localhost:8080/"
        },
        "id": "hPa3UE9QOFxI",
        "outputId": "47ece59d-4d59-4dad-fe98-d9d736e670a9"
      },
      "execution_count": 17,
      "outputs": [
        {
          "output_type": "execute_result",
          "data": {
            "text/plain": [
              "-6.0"
            ]
          },
          "metadata": {},
          "execution_count": 17
        }
      ]
    },
    {
      "cell_type": "code",
      "source": [
        "do_arithmetic(10, -43, 'subtract')"
      ],
      "metadata": {
        "colab": {
          "base_uri": "https://localhost:8080/"
        },
        "id": "w0nwNA0vOFiP",
        "outputId": "d6bb15aa-541f-43f2-a6da-4584e2edbab5"
      },
      "execution_count": 18,
      "outputs": [
        {
          "output_type": "execute_result",
          "data": {
            "text/plain": [
              "53.0"
            ]
          },
          "metadata": {},
          "execution_count": 18
        }
      ]
    },
    {
      "cell_type": "code",
      "source": [
        "do_arithmetic(3, 9)"
      ],
      "metadata": {
        "colab": {
          "base_uri": "https://localhost:8080/"
        },
        "id": "53T7RXdkQ9kj",
        "outputId": "abccf298-0221-435a-cf7d-d18c21c2dd9e"
      },
      "execution_count": 19,
      "outputs": [
        {
          "output_type": "execute_result",
          "data": {
            "text/plain": [
              "12.0"
            ]
          },
          "metadata": {},
          "execution_count": 19
        }
      ]
    },
    {
      "cell_type": "code",
      "source": [],
      "metadata": {
        "id": "DAfa2NZ-Q9YD"
      },
      "execution_count": null,
      "outputs": []
    },
    {
      "cell_type": "markdown",
      "source": [
        "### Question 2 - Sum of digits\n",
        "\n",
        "Write a function `sum_of_digits(s)` that takes as input a string s that contains some numbers. The function calculates the sum of all the digits in the string, ignoring any symbols that\n",
        "are not digits.\n",
        "\n",
        "• Example: `sum_of_digits(\"123\")` should return 6 since 1+2+3 = 6\n",
        "\n",
        "• Example 2: `sum_of_digits(\"10a20\")` should return 3 because 1+0+2+0 = 3.\n",
        "Detailed instructions:\n",
        "\n",
        "- if s includes both digits and nondigits\n",
        "\n",
        "  – Calculate the sum of digits and return the result whilst ignoring any\n",
        "  \n",
        "  non-digit symbols in the string.\n",
        "  \n",
        "  – print e.g. for `sum_of_digits(\"10a20\")`\n",
        "  \n",
        "  ’The sum of digits operation performs 1+0+2+0’\n",
        "\n",
        "  – Save the extracted non-digits in a variable of interest as a list and print \"The extracted non-digits are: [’a’]\"\n",
        "\n",
        "- If s is not provided or an empty string return 0 and print\n",
        "  \n",
        "  ’Empty string entered!’.\n",
        "\n",
        "- If s is provided, but it contains no digits return 0 and print\n",
        "  \n",
        "  ’The sum of digits operation could not detect a digit!’\n",
        "  \n",
        "  ’The returned input letters are: [ALL NONDIGITS HERE]’\n",
        "\n",
        "- The returned number should be an integer.\n",
        "\n",
        "  - Example 1: When you run `sum_of_digits(\"a1w3\")` , the function should print\n",
        "    \n",
        "    The sum of digits operation performs 1+3\n",
        "    \n",
        "    The extracted non-digits are: [’a’, ’w’]\n",
        "    \n",
        "    4\n",
        "\n",
        "  - Example 2: When you run `sum_of_digits(\"united\")`, the function should print\n",
        "    \n",
        "    The sum of digits operation could not detect a digit!\n",
        "\n",
        "    The returned input letters are: [’u’, ’n’, ’i’, ’t’, ’e’, ’d’]\n",
        "    \n",
        "    0\n",
        "\n",
        "Test code: The following test cases will be tested:\n",
        "\n",
        "`sum_of_digits(\"123\")`\n",
        "\n",
        "- Expected result:\n",
        "  \n",
        "  The sum of digit operation performs 1 + 2 + 3\n",
        "  \n",
        "  The extracted non-digits are []\n",
        "  \n",
        "  6\n",
        "\n",
        "`sum_of_digits(\"we10a20b\")`\n",
        "\n",
        "- Expected result:\n",
        "\n",
        "  The sum of digit operation performs 1 + 0 + 2 + 0\n",
        "\n",
        "  The extracted non-digits are ['w', 'e', 'a', 'b']\n",
        "\n",
        "  3\n",
        "\n",
        "`sum_of_digits(\"united\")`\n",
        "- Expected result:\n",
        "\n",
        "  The sum of digits operation could not detect a digit!\n",
        "  \n",
        "  The extracted non-digits are ['u', 'n', 'i', 't', 'e', 'd']\n",
        "  \n",
        "  0\n",
        "\n",
        "`sum_of_digits(\"\")`\n",
        "\n",
        "- Expected result:\n",
        "\n",
        "  The sum of digits operation could not detect a digit!\n",
        "  \n",
        "  The extracted non-digits are []\n",
        "  \n",
        "  0"
      ],
      "metadata": {
        "id": "oiXY9pAQD5bE"
      }
    },
    {
      "cell_type": "code",
      "source": [
        "def sum_of_digits(s):\n",
        "  ''' This function takes as input a string s that contains some numbers(alphanumeric, only alphabets, only digits ).\n",
        "  The function calculates the sum of all the digits in the string, ignoring any symbols that are not digits.'''\n",
        "  sum = 0\n",
        "  non_digits = []\n",
        "  digits = []\n",
        "  if s == '' or \"\":\n",
        "    print('Empty string entered!')\n",
        "    return 0\n",
        "  elif s.isalpha() :\n",
        "    print('The sum of digits operation could not detect a digit!')\n",
        "    for i in s:\n",
        "      non_digits.append(i)\n",
        "    print(f'The extracted non-digits are {non_digits}')\n",
        "    return 0\n",
        "  else:\n",
        "    for i in s:\n",
        "      if i.isalpha() == False:\n",
        "         digits.append(int(i))\n",
        "         sum = sum+int(i)\n",
        "\n",
        "      else:\n",
        "        non_digits.append(i)\n",
        "\n",
        "    print('The sum of digit operation performs',(str(digits).replace(',',\" +\"))[1:-1])\n",
        "    print(f'The extracted non-digits are {non_digits}')\n",
        "    print(sum)\n",
        "\n",
        "\n",
        "sum_of_digits('asdfg')"
      ],
      "metadata": {
        "id": "quwAzI41D44Y",
        "colab": {
          "base_uri": "https://localhost:8080/"
        },
        "outputId": "62fb08e1-51c4-434a-d590-44f2763ca3b6"
      },
      "execution_count": 94,
      "outputs": [
        {
          "output_type": "stream",
          "name": "stdout",
          "text": [
            "The sum of digits operation could not detect a digit!\n",
            "The extracted non-digits are ['a', 's', 'd', 'f', 'g']\n"
          ]
        },
        {
          "output_type": "execute_result",
          "data": {
            "text/plain": [
              "0"
            ]
          },
          "metadata": {},
          "execution_count": 94
        }
      ]
    },
    {
      "cell_type": "code",
      "source": [
        "sum_of_digits(\"123\")"
      ],
      "metadata": {
        "colab": {
          "base_uri": "https://localhost:8080/"
        },
        "id": "XqBHhnOnVv4A",
        "outputId": "25d75732-117c-4a91-82f8-974a4193a03e"
      },
      "execution_count": 95,
      "outputs": [
        {
          "output_type": "stream",
          "name": "stdout",
          "text": [
            "The sum of digit operation performs 1 + 2 + 3\n",
            "The extracted non-digits are []\n",
            "6\n"
          ]
        }
      ]
    },
    {
      "cell_type": "code",
      "source": [
        "sum_of_digits(\"we10a20b\")"
      ],
      "metadata": {
        "colab": {
          "base_uri": "https://localhost:8080/"
        },
        "id": "4Vt86TIHXPQJ",
        "outputId": "a7230a69-2e9d-4704-e10d-ae7ae9fec6bd"
      },
      "execution_count": 96,
      "outputs": [
        {
          "output_type": "stream",
          "name": "stdout",
          "text": [
            "The sum of digit operation performs 1 + 0 + 2 + 0\n",
            "The extracted non-digits are ['w', 'e', 'a', 'b']\n",
            "3\n"
          ]
        }
      ]
    },
    {
      "cell_type": "code",
      "source": [
        "sum_of_digits(\"united\")"
      ],
      "metadata": {
        "colab": {
          "base_uri": "https://localhost:8080/"
        },
        "id": "xQ8F3hDfXVKf",
        "outputId": "c145695a-8de7-417b-eaf9-3ac0e563903a"
      },
      "execution_count": 97,
      "outputs": [
        {
          "output_type": "stream",
          "name": "stdout",
          "text": [
            "The sum of digits operation could not detect a digit!\n",
            "The extracted non-digits are ['u', 'n', 'i', 't', 'e', 'd']\n"
          ]
        },
        {
          "output_type": "execute_result",
          "data": {
            "text/plain": [
              "0"
            ]
          },
          "metadata": {},
          "execution_count": 97
        }
      ]
    },
    {
      "cell_type": "code",
      "source": [
        "sum_of_digits(\"\")"
      ],
      "metadata": {
        "colab": {
          "base_uri": "https://localhost:8080/"
        },
        "id": "v-p-LfY7XjOG",
        "outputId": "147990ef-ede5-4430-a9c2-1957c7b3a8cf"
      },
      "execution_count": 98,
      "outputs": [
        {
          "output_type": "stream",
          "name": "stdout",
          "text": [
            "Empty string entered!\n"
          ]
        },
        {
          "output_type": "execute_result",
          "data": {
            "text/plain": [
              "0"
            ]
          },
          "metadata": {},
          "execution_count": 98
        }
      ]
    },
    {
      "cell_type": "markdown",
      "source": [
        "### Question 3 - Pluralize\n",
        "\n",
        "Please download following file named `pronoun.txt` before you solve this questions the link is given below:\n",
        "\n",
        "[Required file link](https://cdn.discordapp.com/attachments/953213295710584862/974555326865100830/pronoun.txt)\n",
        "\n",
        "Write a function `pluralize(word)` that determines the plural of an English word.\n",
        "Input: Your function takes one argument as input, word, a string representing the word to be\n",
        "pluralised. We assume this word will only be one single token, i.e., no spaces. Your function will also have to load the text file `proper nouns.txt`.\n",
        "\n",
        "Output: The function should return a dictionary of the form:\n",
        "  - {’plural’: word_in_plural, ’status’: x}\n",
        "\n",
        "\n",
        "where word_in_plural is the pluralized version of the input argument word and x is a\n",
        "string which can have one of the following values: ’empty_string’, ’proper_noun’, ’\n",
        "already_in_plural’, ’success’.\n",
        "\n",
        "\n",
        "Below is the logic (in order) that the function should execute.\n",
        "\n",
        "1) Determine if the word is an empty string, already in plural, or a proper noun.\n",
        "\n",
        "    • If the word is an empty string, then your function returns a dictionary with the following values:\n",
        "    \n",
        "      – word_in_plural = ’’ and x = ’empty_string’\n",
        "    \n",
        "      – Explanation: The input word is an empty string and it cannot be pluralized.\n",
        "    \n",
        "    • If the word is already in plural, then your function returns a dictionary with the following values:\n",
        "    \n",
        "      – word_in_plural = word and x = ’already_in_plural’.\n",
        "    \n",
        "      – Explanation: The input word remains untouched (e.g., input: houses, output: houses).\n",
        "    \n",
        "    • If the word is a proper noun, then your function returns a dictionary with the following values:\n",
        "    \n",
        "      – word_in_plural = word and x = ’proper_noun’.\n",
        "    \n",
        "      – Explanation: The input word is a proper noun, and therefore cannot be pluralized (e.g., input: Adam, output: Adam).\n",
        "\n",
        "    • How to determine plural form: We will assume a word is in plural if it ends with ’s’.\n",
        "\n",
        "    • How to determine if a word is a proper noun: We will assume a word is a proper noun if it exists in the file proper nouns.txt. Note that your function should convert any capitalised input to lower case first because the proper nouns in the list are all lower case. The values in your output dictionary, however, will retain the original capitalisation\n",
        "\n",
        "2) If the word is not plural and is not a proper noun, then:\n",
        "  Apply the following English plural rules.\n",
        "    \n",
        "    • If the word ends with a vowel:\n",
        "        – add -s.\n",
        "    \n",
        "    • Otherwise:\n",
        "        \n",
        "        – If it ends with ’y’ and is preceded by a consonant, erase the last letter and add\n",
        "        \n",
        "          -ies.\n",
        "        \n",
        "        – If it ends with ’f’, erase the last letter and add -ves.\n",
        "        \n",
        "        – If it ends with ’sh’/’ch’/’z’, add -es.\n",
        "        \n",
        "        – If none of the above applies, just add -s.\n",
        "\n",
        "    • After these rules are applied, your output dictionary should be:\n",
        "        – {’plural’: word_in_plural, ’status’: ’success’}\n",
        "\n",
        "\n",
        "Test code: The following test cases will be tested:\n",
        "\n",
        "`pluralize(\"failure\")`\n",
        "- Expected result: `{'plural':'failures', 'status':'success'}`\n",
        "\n",
        "`pluralize(\"food\")`\n",
        "- Expected result: `{'plural':'foods', 'status':'success'}`\n",
        "\n",
        "`pluralize(\"Zulma\")`\n",
        "- Expected result: `{'plural':'zulma', 'status':'proper_noun'}`\n",
        "\n",
        "`pluralize(\"injury\")`\n",
        "- Expected result: `{'plural':'injuries', 'status':'success'}`\n",
        "\n",
        "`pluralize(\"elf\")`\n",
        "- Expected result: `{'plural':'elves', 'status':'success'}`\n",
        "\n",
        "`pluralize(\"buzz\")`\n",
        "- Expected result: `{'plural':'buzzes', 'status':'success'}`\n",
        "\n",
        "`pluralize(\"computers\")`\n",
        "- Expected result: `{'plural':'computers', 'status':'already_in_plural'}`\n",
        "\n",
        "`pluralize(\"PCs\")`\n",
        "- Expected result: `{'plural':'PCs', 'status':'already_in_plural'}`\n",
        "\n",
        "`pluralize(\"\")`\n",
        "- Expected result: `{'plural':'', 'status':'empty_string'}`\n",
        "\n",
        "`pluralize(\"highway\")`\n",
        "- Expected result: `{'plural':'highways', 'status':'success'}`\n",
        "\n",
        "`pluralize(\"presentation\")`\n",
        "- Expected result: `{'plural':'presentations', 'status':'success'}`\n",
        "\n",
        "`pluralize(\"pouch\")`\n",
        "- Expected result: `{'plural':'pouches', 'status':'success'}`\n",
        "\n",
        "`pluralize(\"COVID-19\")`\n",
        "- Expected result: `{'plural':'COVID-19s', 'status':'success'}`\n",
        "\n",
        "`pluralize(\"adam\")`\n",
        "- Expected result: `{'plural':'adam', 'status':'proper_noun'}`\n"
      ],
      "metadata": {
        "id": "Ho-lFx1GFOvj"
      }
    },
    {
      "cell_type": "code",
      "source": [
        "import os\n",
        "import re\n",
        "def pluralize(word):\n",
        "\n",
        "  ''' This function determines the plural of an English word. It takes one argument as input,\n",
        "      word, a string representing the word to be pluralised.'''\n",
        "\n",
        "  plural_dictionary = {}\n",
        "  f = open('pronoun.txt')\n",
        "  if word == '' or  \"\":                                                 # for empty string\n",
        "    plural_dictionary.update({'plural':'', 'status':'empty_string'})\n",
        "  elif word[-1] == 'f':                                                     # word ends with f\n",
        "    plural_dictionary.update({'plural':word[:-1]+'ves', 'status':'success'})\n",
        "  elif word.lower() in re.findall(word.lower(),f.read()):                   # for proper noun\n",
        "      plural_dictionary.update({'plural':word, 'status':'proper_noun'})\n",
        "  elif word[-1] == 's':                                                         # word ends with s\n",
        "    plural_dictionary.update({'plural':word, 'status':'already_in_plural'})\n",
        "  elif word[-1] in 'aeiou':                                                        # word ends with vowels\n",
        "    plural_dictionary.update({'plural':word+'s', 'status':'success'})\n",
        "  elif word[-2] in 'aeiou' and word[-1]== 'y':\n",
        "    plural_dictionary.update({'plural':word+'s', 'status':'success'})\n",
        "  elif word[-1] == 'y':\n",
        "    plural_dictionary.update({'plural':word[:-1]+'ies', 'status':'success'})\n",
        "  elif word[-2] == 's' and word[-1] == 'h':\n",
        "    plural_dictionary.update({'plural':word+'es', 'status':'success'})\n",
        "  elif word[-2] == 'c' and word[-1] == 'h':\n",
        "    plural_dictionary.update({'plural':word+'es', 'status':'success'})\n",
        "  elif word[-1] == 'z':\n",
        "    plural_dictionary.update({'plural':word+'es', 'status':'success'})\n",
        "  else:\n",
        "    plural_dictionary.update({'plural':word+'s', 'status':'success'})\n",
        "\n",
        "  f.close()\n",
        "  print(plural_dictionary)\n"
      ],
      "metadata": {
        "id": "8xf-WEogcwJW"
      },
      "execution_count": 171,
      "outputs": []
    },
    {
      "cell_type": "code",
      "source": [
        "pluralize(\"food\")"
      ],
      "metadata": {
        "colab": {
          "base_uri": "https://localhost:8080/"
        },
        "id": "f0IQI41VmDr2",
        "outputId": "1ffd1962-ed2d-45fe-8bc8-f352d1c6a182"
      },
      "execution_count": 172,
      "outputs": [
        {
          "output_type": "stream",
          "name": "stdout",
          "text": [
            "{'plural': 'foods', 'status': 'success'}\n"
          ]
        }
      ]
    },
    {
      "cell_type": "code",
      "source": [
        "pluralize(\"Zulma\")"
      ],
      "metadata": {
        "colab": {
          "base_uri": "https://localhost:8080/"
        },
        "id": "4mCfms0wmDoL",
        "outputId": "eb141794-2cba-4b1a-bc31-4220a5cae2b8"
      },
      "execution_count": 173,
      "outputs": [
        {
          "output_type": "stream",
          "name": "stdout",
          "text": [
            "{'plural': 'Zulma', 'status': 'proper_noun'}\n"
          ]
        }
      ]
    },
    {
      "cell_type": "code",
      "source": [
        "pluralize(\"presentation\")"
      ],
      "metadata": {
        "colab": {
          "base_uri": "https://localhost:8080/"
        },
        "id": "Vxq_pteBmDlV",
        "outputId": "e6aea71a-a0da-485d-c3f7-d62ab8fe94af"
      },
      "execution_count": 174,
      "outputs": [
        {
          "output_type": "stream",
          "name": "stdout",
          "text": [
            "{'plural': 'presentations', 'status': 'success'}\n"
          ]
        }
      ]
    },
    {
      "cell_type": "code",
      "source": [
        "pluralize(\"COVID-19\")"
      ],
      "metadata": {
        "colab": {
          "base_uri": "https://localhost:8080/"
        },
        "id": "SKwQyBFIlQKq",
        "outputId": "74db4c4a-bb5f-4b29-cc30-ce88d4568660"
      },
      "execution_count": 175,
      "outputs": [
        {
          "output_type": "stream",
          "name": "stdout",
          "text": [
            "{'plural': 'COVID-19s', 'status': 'success'}\n"
          ]
        }
      ]
    },
    {
      "cell_type": "code",
      "source": [
        "pluralize(\"highway\")"
      ],
      "metadata": {
        "colab": {
          "base_uri": "https://localhost:8080/"
        },
        "id": "wbsIJu-rlDTA",
        "outputId": "3aa5e485-58b7-469d-bde6-fad72c3c500d"
      },
      "execution_count": 176,
      "outputs": [
        {
          "output_type": "stream",
          "name": "stdout",
          "text": [
            "{'plural': 'highways', 'status': 'success'}\n"
          ]
        }
      ]
    },
    {
      "cell_type": "code",
      "source": [
        "pluralize(\"elf\")"
      ],
      "metadata": {
        "colab": {
          "base_uri": "https://localhost:8080/"
        },
        "id": "AmiKGIBzkGO7",
        "outputId": "2e6861e2-a12d-4990-edd8-3402932ea856"
      },
      "execution_count": 177,
      "outputs": [
        {
          "output_type": "stream",
          "name": "stdout",
          "text": [
            "{'plural': 'elves', 'status': 'success'}\n"
          ]
        }
      ]
    },
    {
      "cell_type": "code",
      "source": [
        "pluralize(\"buzz\")"
      ],
      "metadata": {
        "colab": {
          "base_uri": "https://localhost:8080/"
        },
        "id": "yksF4J2qkL3A",
        "outputId": "4a7cf037-95b5-4ae0-cec3-a58adbb7f93f"
      },
      "execution_count": 178,
      "outputs": [
        {
          "output_type": "stream",
          "name": "stdout",
          "text": [
            "{'plural': 'buzzes', 'status': 'success'}\n"
          ]
        }
      ]
    },
    {
      "cell_type": "code",
      "source": [
        "pluralize(\"pouch\")"
      ],
      "metadata": {
        "colab": {
          "base_uri": "https://localhost:8080/"
        },
        "id": "3ZW7PYQdkUju",
        "outputId": "7b986c7c-b451-4397-8de4-32cdd8c627c1"
      },
      "execution_count": 179,
      "outputs": [
        {
          "output_type": "stream",
          "name": "stdout",
          "text": [
            "{'plural': 'pouches', 'status': 'success'}\n"
          ]
        }
      ]
    },
    {
      "cell_type": "code",
      "source": [
        "pluralize('leaf')"
      ],
      "metadata": {
        "colab": {
          "base_uri": "https://localhost:8080/"
        },
        "id": "7KgdkZ9QjTzd",
        "outputId": "60d78f69-3813-4a36-aa6a-f127ae7f39ad"
      },
      "execution_count": 180,
      "outputs": [
        {
          "output_type": "stream",
          "name": "stdout",
          "text": [
            "{'plural': 'leaves', 'status': 'success'}\n"
          ]
        }
      ]
    },
    {
      "cell_type": "code",
      "source": [
        "pluralize(\"adam\")"
      ],
      "metadata": {
        "colab": {
          "base_uri": "https://localhost:8080/"
        },
        "id": "4nQJOjrDgNbM",
        "outputId": "03e4c7b7-d1eb-472c-ff4d-62082796da46"
      },
      "execution_count": 181,
      "outputs": [
        {
          "output_type": "stream",
          "name": "stdout",
          "text": [
            "{'plural': 'adam', 'status': 'proper_noun'}\n"
          ]
        }
      ]
    },
    {
      "cell_type": "code",
      "source": [
        "pluralize(\"\")"
      ],
      "metadata": {
        "colab": {
          "base_uri": "https://localhost:8080/"
        },
        "id": "5qPZjnmQcwDH",
        "outputId": "71807991-e41b-4dc6-b16b-f999738ffa20"
      },
      "execution_count": 182,
      "outputs": [
        {
          "output_type": "stream",
          "name": "stdout",
          "text": [
            "{'plural': '', 'status': 'empty_string'}\n"
          ]
        }
      ]
    },
    {
      "cell_type": "code",
      "source": [
        "pluralize(\"PCs\")"
      ],
      "metadata": {
        "colab": {
          "base_uri": "https://localhost:8080/"
        },
        "id": "FuD2GJ7Pcv_w",
        "outputId": "cf71a48e-ec1f-416e-8c7c-55e616530d14"
      },
      "execution_count": 183,
      "outputs": [
        {
          "output_type": "stream",
          "name": "stdout",
          "text": [
            "{'plural': 'PCs', 'status': 'already_in_plural'}\n"
          ]
        }
      ]
    },
    {
      "cell_type": "code",
      "source": [
        "pluralize(\"computers\")"
      ],
      "metadata": {
        "colab": {
          "base_uri": "https://localhost:8080/"
        },
        "id": "ouuIX-rJcv8m",
        "outputId": "8fa103bb-513c-45f4-e888-d3916337e2df"
      },
      "execution_count": 184,
      "outputs": [
        {
          "output_type": "stream",
          "name": "stdout",
          "text": [
            "{'plural': 'computers', 'status': 'already_in_plural'}\n"
          ]
        }
      ]
    },
    {
      "cell_type": "code",
      "source": [
        "pluralize(\"failure\")"
      ],
      "metadata": {
        "colab": {
          "base_uri": "https://localhost:8080/"
        },
        "id": "8PMCJE7Kcv4l",
        "outputId": "abdc549f-1288-4a3f-b7e1-35d31dabb1ad"
      },
      "execution_count": 185,
      "outputs": [
        {
          "output_type": "stream",
          "name": "stdout",
          "text": [
            "{'plural': 'failures', 'status': 'success'}\n"
          ]
        }
      ]
    },
    {
      "cell_type": "code",
      "source": [
        "pluralize(\"injury\")"
      ],
      "metadata": {
        "colab": {
          "base_uri": "https://localhost:8080/"
        },
        "id": "2_HfdXCFcv1T",
        "outputId": "04f938af-de12-4929-bcf5-dd9a4b2487c6"
      },
      "execution_count": 186,
      "outputs": [
        {
          "output_type": "stream",
          "name": "stdout",
          "text": [
            "{'plural': 'injuries', 'status': 'success'}\n"
          ]
        }
      ]
    },
    {
      "cell_type": "markdown",
      "source": [
        "### Question 4 - Function renamer\n",
        "\n",
        "\n",
        "You are working on a large-scale software project involving thousands of different Python files. The files have been written by different programmers and the naming of functions is somewhat inconsistent. You receive a new directive stating that the function names all have to be in camel case. In camel case, function names consisting of multiple words have a capital letter in each word and most underscores are removed. For instance, `def MyArithmeticCalculator()` is in camel case but `def my_arithmetic_calculator()` is not in camel case.\n",
        "\n",
        "You want to write a Python program that automatically processes Python code and renames the function names instead of doing it by hand. The instruction states that:\n",
        "\n",
        "  1.) All functions names need to be changed to camel case. E.g. a function\n",
        "  `calculate_speed_of_vehicle()` needs to be renamed to `CalculateSpeedOfVehicle()`.\n",
        "\n",
        "  2.) If the function has one or more leading ’_’ (underscores) they need to be preserved.\n",
        "\n",
        "  All other underscores need to be removed. E.g. a function `__calc_size()` is renamed to `__CalcSize()`.\n",
        "\n",
        "  3.) If the function is already in camel case, you do not need to change it but it still needs to appear in the dictionary d specified below.\n",
        "\n",
        "  4.) You can assume that there will be no name clashes. That is, a given function name which is not in camel case will not already appear in camel case elsewhere. E.g.if there is a function `print_all_strings()` then there is no function `PrintAllStrings()` elsewhere in the code.\n",
        "\n",
        "5.) Tip: You can use regular expressions to find the function names.\n",
        "\n",
        "\n",
        "To implement this, write a function `function_renamer(code)` that takes as input a string code that represents the Python code. It is typically a multi-line Python string. Your function needs to return the tuple `(d, newcode)`:\n",
        "\n",
        "  • `d` is a nested dictionary where each key corresponds to the original function name. The value is a nested dictionary that has the following items:\n",
        "\n",
        "    – hash: hash code of the original function name (tip: use Python’s hash function)\n",
        "\n",
        "    – camelcase: camel case version of original function name\n",
        "\n",
        "    – allcaps: all caps version of original function name\n",
        "\n",
        "  • newcode is a string containing the code wherein all function names have been renamed by their camel case versions. Note that you need to change the function name and also all other locations where the function name is used (e.g. function calls). You should not change anything else in the code (e.g. the contents of any strings). To clarify this, a few examples are given below:\n",
        "    - Example 1: Assume your input code is the multi-line string\n",
        "    \n",
        "        def add_two_numbers(a, b):\n",
        "          return a + b\n",
        "          print(add_two_numbers(10, 20))\n",
        "\n",
        "    \n",
        "    \n",
        "      After processing it with your function, the code should be changed to\n",
        "\n",
        "        def AddTwoNumbers(a, b):\n",
        "          return a + b\n",
        "        print(AddTwoNumbers(10, 20))\n",
        "\n",
        "        The nested dictionary is given by\n",
        "        d = {’add_two_numbers’:\n",
        "        {’hash’:-9214996652071026704,\n",
        "        ’camelcase’:’AddTwoNumbers’,\n",
        "        ’allcaps’:’ADD_TWO_NUMBERS’} }\n",
        "\n",
        "\n",
        "    - Example 2: Assume your input code is the multi-line string\n",
        "          def _major_split(*args):\n",
        "            return (args[:2], args[2:])\n",
        "          \n",
        "          \n",
        "          def CheckTruth(t = True):\n",
        "            print(’t is’, t)\n",
        "            return _major_split([t]*10)\n",
        "          \n",
        "          x, y = _major_split((10, 20, 30, 40, 50))\n",
        "\n",
        "\n",
        "\n",
        "      CheckTruth(len(x) == 10)\n",
        "\n",
        "      After processing it with your function, the code should be changed to\n",
        "          def _MajorSplit(*args):\n",
        "            return (args[:2], args[2:])\n",
        "          \n",
        "          def CheckTruth(t = True):\n",
        "            print(’t is’, t)\n",
        "            return _MajorSplit([t]*10)\n",
        "          x, y = _MajorSplit((10, 20, 30, 40, 50))\n",
        "          \n",
        "          CheckTruth(len(x) == 10)\n",
        "          \n",
        "          The nested dictionary is given by\n",
        "          \n",
        "          d = {’CheckTruth’:\n",
        "          {’hash’:-6410081306665365595,\n",
        "          ’camelcase’:’CheckTruth’,\n",
        "          ’allcaps’:’CHECKTRUTH’,\n",
        "          ’_major_split’:\n",
        "          {’hash’:484498917506710667,\n",
        "          ’camelcase’:’_MajorSplit’,\n",
        "          ’allcaps’:’_MAJOR_SPLIT’}}\n",
        "\n",
        "\n",
        "\n",
        "Test code: The examples given above are the only test cases to be handled for this question."
      ],
      "metadata": {
        "id": "-XQCi9ydHG9t"
      }
    },
    {
      "cell_type": "code",
      "source": [
        "import os\n",
        "import re\n",
        "def function_renamer(code):\n",
        "\n",
        "  ''' This function used to renaming the functions in camel case, string containing the code\n",
        "  wherein all function names have been renamed by their camel case versions'''\n",
        "\n",
        "  d = {}\n",
        "  camel_list = (re.sub(r' ','',(re.sub(r'\\_',\" \",(str(re.findall(r'(?<=^\\_)\\w+|[a-z]+\\_\\w+|[A-Z]\\w+(?=\\()',code)).title()))))).split(',')  # Make camelcase to extracted functions\n",
        "  _list = re.findall(r'\\w+',str(re.findall(r'\\_\\w+|[a-z]+\\_\\w+|[A-Z]\\w+(?=\\()',code)))        # list of functions with underscore(_)\n",
        "\n",
        "  camel_list = re.findall(r'\\w+',str(camel_list))\n",
        "\n",
        "  for orig_function, camel_case in zip(_list,camel_list):\n",
        "\n",
        "    if orig_function in code:\n",
        "      if orig_function[0] == '_':\n",
        "        camel_case= '_'+camel_case\n",
        "        code = re.sub(orig_function,camel_case,code)  # renamed the original string into camelcase\n",
        "      else:\n",
        "       code = re.sub(orig_function,camel_case,code)\n",
        "\n",
        "      d.update({orig_function:{'hash': hash(orig_function), 'camelcase':camel_case, 'allcaps':orig_function.upper()}})\n",
        "\n",
        "  print(code,'\\n\\n',d)\n",
        "\n"
      ],
      "metadata": {
        "id": "JGRNMi8MIp94"
      },
      "execution_count": 11,
      "outputs": []
    },
    {
      "cell_type": "code",
      "source": [
        "\n",
        "add_fun = '''def add_two_numbers(a, b):\n",
        "      return a + b\n",
        "      print(add_two_numbers(10, 20)) '''\n",
        "\n",
        "\n",
        "split_fun =   '''   def _major_split(*args):\n",
        "        return (args[:2], args[2:])\n",
        "\n",
        "\n",
        "      def CheckTruth(t = True):\n",
        "        print(’t is’, t)\n",
        "        return _major_split([t]*10)\n",
        "\n",
        "      x, y = _major_split((10, 20, 30, 40, 50))'''\n",
        "\n",
        "\n",
        "string = '''def add_two_numbers(a, b):\n",
        "      return a + b\n",
        "      print(add_two_numbers(10, 20))\n",
        "\n",
        "      def _major_split(*args):\n",
        "        return (args[:2], args[2:])\n",
        "\n",
        "\n",
        "      def CheckTruth(t = True):\n",
        "        print(’t is’, t)\n",
        "        return _major_split([t]*10)\n",
        "\n",
        "      x, y = _major_split((10, 20, 30, 40, 50))'''\n",
        "\n",
        "\n",
        "\n",
        "\n",
        "function_renamer(add_fun)"
      ],
      "metadata": {
        "colab": {
          "base_uri": "https://localhost:8080/"
        },
        "id": "d0EujOIZzEru",
        "outputId": "694b3d17-210e-4ceb-aef6-004719a396a8"
      },
      "execution_count": 13,
      "outputs": [
        {
          "output_type": "stream",
          "name": "stdout",
          "text": [
            "def AddTwoNumbers(a, b):\n",
            "      return a + b\n",
            "      print(AddTwoNumbers(10, 20))  \n",
            "\n",
            " {'add_two_numbers': {'hash': -5073007720276058227, 'camelcase': 'AddTwoNumbers', 'allcaps': 'ADD_TWO_NUMBERS'}}\n"
          ]
        }
      ]
    },
    {
      "cell_type": "code",
      "source": [
        "function_renamer(split_fun)"
      ],
      "metadata": {
        "colab": {
          "base_uri": "https://localhost:8080/"
        },
        "id": "0AL2u-5bZbvV",
        "outputId": "03445194-0fee-4ee1-ab7b-580910340598"
      },
      "execution_count": 14,
      "outputs": [
        {
          "output_type": "stream",
          "name": "stdout",
          "text": [
            "   def _MajorSplit(*args):\n",
            "        return (args[:2], args[2:]) \n",
            "\n",
            "\n",
            "      def Checktruth(t = True):\n",
            "        print(’t is’, t)\n",
            "        return _MajorSplit([t]*10)\n",
            "\n",
            "      x, y = _MajorSplit((10, 20, 30, 40, 50)) \n",
            "\n",
            " {'_major_split': {'hash': 3391507941632235544, 'camelcase': '_MajorSplit', 'allcaps': '_MAJOR_SPLIT'}, 'CheckTruth': {'hash': 5415098461690220188, 'camelcase': 'Checktruth', 'allcaps': 'CHECKTRUTH'}}\n"
          ]
        }
      ]
    },
    {
      "cell_type": "code",
      "source": [
        "function_renamer(string)"
      ],
      "metadata": {
        "colab": {
          "base_uri": "https://localhost:8080/"
        },
        "id": "WEJnotxlZer4",
        "outputId": "01e96126-d647-4c01-d829-fed5d2a4d918"
      },
      "execution_count": 15,
      "outputs": [
        {
          "output_type": "stream",
          "name": "stdout",
          "text": [
            "def AddTwoNumbers(a, b):\n",
            "      return a + b\n",
            "      print(AddTwoNumbers(10, 20)) \n",
            "\n",
            "      def _MajorSplit(*args):\n",
            "        return (args[:2], args[2:])\n",
            "\n",
            "\n",
            "      def Checktruth(t = True):\n",
            "        print(’t is’, t)\n",
            "        return _MajorSplit([t]*10)\n",
            "\n",
            "      x, y = _MajorSplit((10, 20, 30, 40, 50)) \n",
            "\n",
            " {'add_two_numbers': {'hash': -5073007720276058227, 'camelcase': 'AddTwoNumbers', 'allcaps': 'ADD_TWO_NUMBERS'}, '_major_split': {'hash': 3391507941632235544, 'camelcase': '_MajorSplit', 'allcaps': '_MAJOR_SPLIT'}, 'CheckTruth': {'hash': 5415098461690220188, 'camelcase': 'Checktruth', 'allcaps': 'CHECKTRUTH'}}\n"
          ]
        }
      ]
    },
    {
      "cell_type": "markdown",
      "source": [
        "## Submit your solution\n",
        "\n",
        "Once you are finish with the test, please make sure that you have renamed your solutions in the format given ahead ex. **python_test(pranav_uikey)** and submit it using this [following link](https://github.com/Ai-Adventures/Python_test_submissions)"
      ],
      "metadata": {
        "id": "TSSWnkRKpDmB"
      }
    },
    {
      "source": [
        "\n",
        "## All The Best!!"
      ],
      "cell_type": "markdown",
      "metadata": {
        "id": "3DGlZHtVnU0A"
      }
    }
  ]
}